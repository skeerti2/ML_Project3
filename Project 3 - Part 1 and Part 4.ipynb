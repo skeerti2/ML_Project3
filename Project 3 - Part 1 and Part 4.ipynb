{
 "cells": [
  {
   "cell_type": "markdown",
   "id": "96f24d08",
   "metadata": {},
   "source": [
    "# Project 3 - Applying Your Skills\n",
    "## Name - Mahvash Maghrabi"
   ]
  },
  {
   "cell_type": "markdown",
   "id": "3c4f532a",
   "metadata": {},
   "source": [
    "## Task 1 - Pre-processing, Data Mining, and Visualization"
   ]
  },
  {
   "cell_type": "code",
   "execution_count": 1,
   "id": "58fbea5c",
   "metadata": {},
   "outputs": [],
   "source": [
    "# Importing the required libraries\n",
    "import pandas as pd\n",
    "import seaborn as sns\n",
    "import numpy as np\n",
    "import matplotlib.pyplot as plt\n",
    "from sklearn.preprocessing import LabelEncoder\n",
    "from sklearn.linear_model import LinearRegression\n",
    "from sklearn.linear_model import Lasso\n",
    "from sklearn.metrics import confusion_matrix\n",
    "from sklearn.decomposition import PCA\n",
    "from sklearn.preprocessing import StandardScaler\n",
    "from sklearn.cluster import KMeans\n",
    "from sklearn.metrics import silhouette_score\n",
    "from sklearn.ensemble import RandomForestClassifier\n",
    "from sklearn.naive_bayes import GaussianNB\n",
    "from sklearn.tree import DecisionTreeClassifier\n",
    "from sklearn.model_selection import GridSearchCV\n",
    "from sklearn.metrics import accuracy_score, classification_report"
   ]
  },
  {
   "cell_type": "code",
   "execution_count": 2,
   "id": "3365e563",
   "metadata": {},
   "outputs": [],
   "source": [
    "# Loading the dataset in pandas dataframe\n",
    "data = pd.read_csv('/Users/mahvashmaghrabi/Downloads/heart.csv')"
   ]
  },
  {
   "cell_type": "code",
   "execution_count": 3,
   "id": "0c026f21",
   "metadata": {},
   "outputs": [
    {
     "data": {
      "text/html": [
       "<div>\n",
       "<style scoped>\n",
       "    .dataframe tbody tr th:only-of-type {\n",
       "        vertical-align: middle;\n",
       "    }\n",
       "\n",
       "    .dataframe tbody tr th {\n",
       "        vertical-align: top;\n",
       "    }\n",
       "\n",
       "    .dataframe thead th {\n",
       "        text-align: right;\n",
       "    }\n",
       "</style>\n",
       "<table border=\"1\" class=\"dataframe\">\n",
       "  <thead>\n",
       "    <tr style=\"text-align: right;\">\n",
       "      <th></th>\n",
       "      <th>Age</th>\n",
       "      <th>Sex</th>\n",
       "      <th>ChestPainType</th>\n",
       "      <th>RestingBP</th>\n",
       "      <th>Cholesterol</th>\n",
       "      <th>FastingBS</th>\n",
       "      <th>RestingECG</th>\n",
       "      <th>MaxHR</th>\n",
       "      <th>ExerciseAngina</th>\n",
       "      <th>Oldpeak</th>\n",
       "      <th>ST_Slope</th>\n",
       "      <th>HeartDisease</th>\n",
       "    </tr>\n",
       "  </thead>\n",
       "  <tbody>\n",
       "    <tr>\n",
       "      <th>0</th>\n",
       "      <td>40</td>\n",
       "      <td>M</td>\n",
       "      <td>ATA</td>\n",
       "      <td>140</td>\n",
       "      <td>289</td>\n",
       "      <td>0</td>\n",
       "      <td>Normal</td>\n",
       "      <td>172</td>\n",
       "      <td>N</td>\n",
       "      <td>0.0</td>\n",
       "      <td>Up</td>\n",
       "      <td>0</td>\n",
       "    </tr>\n",
       "    <tr>\n",
       "      <th>1</th>\n",
       "      <td>49</td>\n",
       "      <td>F</td>\n",
       "      <td>NAP</td>\n",
       "      <td>160</td>\n",
       "      <td>180</td>\n",
       "      <td>0</td>\n",
       "      <td>Normal</td>\n",
       "      <td>156</td>\n",
       "      <td>N</td>\n",
       "      <td>1.0</td>\n",
       "      <td>Flat</td>\n",
       "      <td>1</td>\n",
       "    </tr>\n",
       "    <tr>\n",
       "      <th>2</th>\n",
       "      <td>37</td>\n",
       "      <td>M</td>\n",
       "      <td>ATA</td>\n",
       "      <td>130</td>\n",
       "      <td>283</td>\n",
       "      <td>0</td>\n",
       "      <td>ST</td>\n",
       "      <td>98</td>\n",
       "      <td>N</td>\n",
       "      <td>0.0</td>\n",
       "      <td>Up</td>\n",
       "      <td>0</td>\n",
       "    </tr>\n",
       "    <tr>\n",
       "      <th>3</th>\n",
       "      <td>48</td>\n",
       "      <td>F</td>\n",
       "      <td>ASY</td>\n",
       "      <td>138</td>\n",
       "      <td>214</td>\n",
       "      <td>0</td>\n",
       "      <td>Normal</td>\n",
       "      <td>108</td>\n",
       "      <td>Y</td>\n",
       "      <td>1.5</td>\n",
       "      <td>Flat</td>\n",
       "      <td>1</td>\n",
       "    </tr>\n",
       "    <tr>\n",
       "      <th>4</th>\n",
       "      <td>54</td>\n",
       "      <td>M</td>\n",
       "      <td>NAP</td>\n",
       "      <td>150</td>\n",
       "      <td>195</td>\n",
       "      <td>0</td>\n",
       "      <td>Normal</td>\n",
       "      <td>122</td>\n",
       "      <td>N</td>\n",
       "      <td>0.0</td>\n",
       "      <td>Up</td>\n",
       "      <td>0</td>\n",
       "    </tr>\n",
       "  </tbody>\n",
       "</table>\n",
       "</div>"
      ],
      "text/plain": [
       "   Age Sex ChestPainType  RestingBP  Cholesterol  FastingBS RestingECG  MaxHR  \\\n",
       "0   40   M           ATA        140          289          0     Normal    172   \n",
       "1   49   F           NAP        160          180          0     Normal    156   \n",
       "2   37   M           ATA        130          283          0         ST     98   \n",
       "3   48   F           ASY        138          214          0     Normal    108   \n",
       "4   54   M           NAP        150          195          0     Normal    122   \n",
       "\n",
       "  ExerciseAngina  Oldpeak ST_Slope  HeartDisease  \n",
       "0              N      0.0       Up             0  \n",
       "1              N      1.0     Flat             1  \n",
       "2              N      0.0       Up             0  \n",
       "3              Y      1.5     Flat             1  \n",
       "4              N      0.0       Up             0  "
      ]
     },
     "execution_count": 3,
     "metadata": {},
     "output_type": "execute_result"
    }
   ],
   "source": [
    "# Printing the head of the dataset\n",
    "data.head()"
   ]
  },
  {
   "cell_type": "markdown",
   "id": "0efd4e84",
   "metadata": {},
   "source": [
    "# Data Pre-Processing/Cleaning"
   ]
  },
  {
   "cell_type": "code",
   "execution_count": 4,
   "id": "cf9875b2",
   "metadata": {},
   "outputs": [],
   "source": [
    "# Converting the categorical values into numerical values using Label Encoding\n",
    "encoder = LabelEncoder()\n",
    "data['Sex'] = encoder.fit_transform(data['Sex'])\n",
    "data['ChestPainType'] = encoder.fit_transform(data['ChestPainType'])\n",
    "data['RestingECG'] = encoder.fit_transform(data['RestingECG'])\n",
    "data['ExerciseAngina'] = encoder.fit_transform(data['ExerciseAngina'])\n",
    "data['ST_Slope'] = encoder.fit_transform(data['ST_Slope'])"
   ]
  },
  {
   "cell_type": "code",
   "execution_count": 5,
   "id": "a54ae1c7",
   "metadata": {},
   "outputs": [
    {
     "data": {
      "text/html": [
       "<div>\n",
       "<style scoped>\n",
       "    .dataframe tbody tr th:only-of-type {\n",
       "        vertical-align: middle;\n",
       "    }\n",
       "\n",
       "    .dataframe tbody tr th {\n",
       "        vertical-align: top;\n",
       "    }\n",
       "\n",
       "    .dataframe thead th {\n",
       "        text-align: right;\n",
       "    }\n",
       "</style>\n",
       "<table border=\"1\" class=\"dataframe\">\n",
       "  <thead>\n",
       "    <tr style=\"text-align: right;\">\n",
       "      <th></th>\n",
       "      <th>Age</th>\n",
       "      <th>Sex</th>\n",
       "      <th>ChestPainType</th>\n",
       "      <th>RestingBP</th>\n",
       "      <th>Cholesterol</th>\n",
       "      <th>FastingBS</th>\n",
       "      <th>RestingECG</th>\n",
       "      <th>MaxHR</th>\n",
       "      <th>ExerciseAngina</th>\n",
       "      <th>Oldpeak</th>\n",
       "      <th>ST_Slope</th>\n",
       "      <th>HeartDisease</th>\n",
       "    </tr>\n",
       "  </thead>\n",
       "  <tbody>\n",
       "    <tr>\n",
       "      <th>0</th>\n",
       "      <td>40</td>\n",
       "      <td>1</td>\n",
       "      <td>1</td>\n",
       "      <td>140</td>\n",
       "      <td>289</td>\n",
       "      <td>0</td>\n",
       "      <td>1</td>\n",
       "      <td>172</td>\n",
       "      <td>0</td>\n",
       "      <td>0.0</td>\n",
       "      <td>2</td>\n",
       "      <td>0</td>\n",
       "    </tr>\n",
       "    <tr>\n",
       "      <th>1</th>\n",
       "      <td>49</td>\n",
       "      <td>0</td>\n",
       "      <td>2</td>\n",
       "      <td>160</td>\n",
       "      <td>180</td>\n",
       "      <td>0</td>\n",
       "      <td>1</td>\n",
       "      <td>156</td>\n",
       "      <td>0</td>\n",
       "      <td>1.0</td>\n",
       "      <td>1</td>\n",
       "      <td>1</td>\n",
       "    </tr>\n",
       "    <tr>\n",
       "      <th>2</th>\n",
       "      <td>37</td>\n",
       "      <td>1</td>\n",
       "      <td>1</td>\n",
       "      <td>130</td>\n",
       "      <td>283</td>\n",
       "      <td>0</td>\n",
       "      <td>2</td>\n",
       "      <td>98</td>\n",
       "      <td>0</td>\n",
       "      <td>0.0</td>\n",
       "      <td>2</td>\n",
       "      <td>0</td>\n",
       "    </tr>\n",
       "    <tr>\n",
       "      <th>3</th>\n",
       "      <td>48</td>\n",
       "      <td>0</td>\n",
       "      <td>0</td>\n",
       "      <td>138</td>\n",
       "      <td>214</td>\n",
       "      <td>0</td>\n",
       "      <td>1</td>\n",
       "      <td>108</td>\n",
       "      <td>1</td>\n",
       "      <td>1.5</td>\n",
       "      <td>1</td>\n",
       "      <td>1</td>\n",
       "    </tr>\n",
       "    <tr>\n",
       "      <th>4</th>\n",
       "      <td>54</td>\n",
       "      <td>1</td>\n",
       "      <td>2</td>\n",
       "      <td>150</td>\n",
       "      <td>195</td>\n",
       "      <td>0</td>\n",
       "      <td>1</td>\n",
       "      <td>122</td>\n",
       "      <td>0</td>\n",
       "      <td>0.0</td>\n",
       "      <td>2</td>\n",
       "      <td>0</td>\n",
       "    </tr>\n",
       "  </tbody>\n",
       "</table>\n",
       "</div>"
      ],
      "text/plain": [
       "   Age  Sex  ChestPainType  RestingBP  Cholesterol  FastingBS  RestingECG  \\\n",
       "0   40    1              1        140          289          0           1   \n",
       "1   49    0              2        160          180          0           1   \n",
       "2   37    1              1        130          283          0           2   \n",
       "3   48    0              0        138          214          0           1   \n",
       "4   54    1              2        150          195          0           1   \n",
       "\n",
       "   MaxHR  ExerciseAngina  Oldpeak  ST_Slope  HeartDisease  \n",
       "0    172               0      0.0         2             0  \n",
       "1    156               0      1.0         1             1  \n",
       "2     98               0      0.0         2             0  \n",
       "3    108               1      1.5         1             1  \n",
       "4    122               0      0.0         2             0  "
      ]
     },
     "execution_count": 5,
     "metadata": {},
     "output_type": "execute_result"
    }
   ],
   "source": [
    "# Checking the head of the dataset after label encoding\n",
    "data.head()"
   ]
  },
  {
   "cell_type": "code",
   "execution_count": 6,
   "id": "5453dda7",
   "metadata": {},
   "outputs": [
    {
     "name": "stdout",
     "output_type": "stream",
     "text": [
      "Age               0\n",
      "Sex               0\n",
      "ChestPainType     0\n",
      "RestingBP         0\n",
      "Cholesterol       0\n",
      "FastingBS         0\n",
      "RestingECG        0\n",
      "MaxHR             0\n",
      "ExerciseAngina    0\n",
      "Oldpeak           0\n",
      "ST_Slope          0\n",
      "HeartDisease      0\n",
      "dtype: int64\n"
     ]
    }
   ],
   "source": [
    "# Checking and printing the null values and it's count\n",
    "nullValues = data.isnull()\n",
    "print(nullValues.sum())"
   ]
  },
  {
   "cell_type": "code",
   "execution_count": 7,
   "id": "7d99c5e6",
   "metadata": {},
   "outputs": [
    {
     "data": {
      "text/html": [
       "<div>\n",
       "<style scoped>\n",
       "    .dataframe tbody tr th:only-of-type {\n",
       "        vertical-align: middle;\n",
       "    }\n",
       "\n",
       "    .dataframe tbody tr th {\n",
       "        vertical-align: top;\n",
       "    }\n",
       "\n",
       "    .dataframe thead th {\n",
       "        text-align: right;\n",
       "    }\n",
       "</style>\n",
       "<table border=\"1\" class=\"dataframe\">\n",
       "  <thead>\n",
       "    <tr style=\"text-align: right;\">\n",
       "      <th></th>\n",
       "      <th>Age</th>\n",
       "      <th>Sex</th>\n",
       "      <th>ChestPainType</th>\n",
       "      <th>RestingBP</th>\n",
       "      <th>Cholesterol</th>\n",
       "      <th>FastingBS</th>\n",
       "      <th>RestingECG</th>\n",
       "      <th>MaxHR</th>\n",
       "      <th>ExerciseAngina</th>\n",
       "      <th>Oldpeak</th>\n",
       "      <th>ST_Slope</th>\n",
       "      <th>HeartDisease</th>\n",
       "    </tr>\n",
       "  </thead>\n",
       "  <tbody>\n",
       "    <tr>\n",
       "      <th>count</th>\n",
       "      <td>918.000000</td>\n",
       "      <td>918.000000</td>\n",
       "      <td>918.000000</td>\n",
       "      <td>918.000000</td>\n",
       "      <td>918.000000</td>\n",
       "      <td>918.000000</td>\n",
       "      <td>918.000000</td>\n",
       "      <td>918.000000</td>\n",
       "      <td>918.000000</td>\n",
       "      <td>918.000000</td>\n",
       "      <td>918.000000</td>\n",
       "      <td>918.000000</td>\n",
       "    </tr>\n",
       "    <tr>\n",
       "      <th>mean</th>\n",
       "      <td>53.510893</td>\n",
       "      <td>0.789760</td>\n",
       "      <td>0.781046</td>\n",
       "      <td>132.396514</td>\n",
       "      <td>198.799564</td>\n",
       "      <td>0.233115</td>\n",
       "      <td>0.989107</td>\n",
       "      <td>136.809368</td>\n",
       "      <td>0.404139</td>\n",
       "      <td>0.887364</td>\n",
       "      <td>1.361656</td>\n",
       "      <td>0.553377</td>\n",
       "    </tr>\n",
       "    <tr>\n",
       "      <th>std</th>\n",
       "      <td>9.432617</td>\n",
       "      <td>0.407701</td>\n",
       "      <td>0.956519</td>\n",
       "      <td>18.514154</td>\n",
       "      <td>109.384145</td>\n",
       "      <td>0.423046</td>\n",
       "      <td>0.631671</td>\n",
       "      <td>25.460334</td>\n",
       "      <td>0.490992</td>\n",
       "      <td>1.066570</td>\n",
       "      <td>0.607056</td>\n",
       "      <td>0.497414</td>\n",
       "    </tr>\n",
       "    <tr>\n",
       "      <th>min</th>\n",
       "      <td>28.000000</td>\n",
       "      <td>0.000000</td>\n",
       "      <td>0.000000</td>\n",
       "      <td>0.000000</td>\n",
       "      <td>0.000000</td>\n",
       "      <td>0.000000</td>\n",
       "      <td>0.000000</td>\n",
       "      <td>60.000000</td>\n",
       "      <td>0.000000</td>\n",
       "      <td>-2.600000</td>\n",
       "      <td>0.000000</td>\n",
       "      <td>0.000000</td>\n",
       "    </tr>\n",
       "    <tr>\n",
       "      <th>25%</th>\n",
       "      <td>47.000000</td>\n",
       "      <td>1.000000</td>\n",
       "      <td>0.000000</td>\n",
       "      <td>120.000000</td>\n",
       "      <td>173.250000</td>\n",
       "      <td>0.000000</td>\n",
       "      <td>1.000000</td>\n",
       "      <td>120.000000</td>\n",
       "      <td>0.000000</td>\n",
       "      <td>0.000000</td>\n",
       "      <td>1.000000</td>\n",
       "      <td>0.000000</td>\n",
       "    </tr>\n",
       "    <tr>\n",
       "      <th>50%</th>\n",
       "      <td>54.000000</td>\n",
       "      <td>1.000000</td>\n",
       "      <td>0.000000</td>\n",
       "      <td>130.000000</td>\n",
       "      <td>223.000000</td>\n",
       "      <td>0.000000</td>\n",
       "      <td>1.000000</td>\n",
       "      <td>138.000000</td>\n",
       "      <td>0.000000</td>\n",
       "      <td>0.600000</td>\n",
       "      <td>1.000000</td>\n",
       "      <td>1.000000</td>\n",
       "    </tr>\n",
       "    <tr>\n",
       "      <th>75%</th>\n",
       "      <td>60.000000</td>\n",
       "      <td>1.000000</td>\n",
       "      <td>2.000000</td>\n",
       "      <td>140.000000</td>\n",
       "      <td>267.000000</td>\n",
       "      <td>0.000000</td>\n",
       "      <td>1.000000</td>\n",
       "      <td>156.000000</td>\n",
       "      <td>1.000000</td>\n",
       "      <td>1.500000</td>\n",
       "      <td>2.000000</td>\n",
       "      <td>1.000000</td>\n",
       "    </tr>\n",
       "    <tr>\n",
       "      <th>max</th>\n",
       "      <td>77.000000</td>\n",
       "      <td>1.000000</td>\n",
       "      <td>3.000000</td>\n",
       "      <td>200.000000</td>\n",
       "      <td>603.000000</td>\n",
       "      <td>1.000000</td>\n",
       "      <td>2.000000</td>\n",
       "      <td>202.000000</td>\n",
       "      <td>1.000000</td>\n",
       "      <td>6.200000</td>\n",
       "      <td>2.000000</td>\n",
       "      <td>1.000000</td>\n",
       "    </tr>\n",
       "  </tbody>\n",
       "</table>\n",
       "</div>"
      ],
      "text/plain": [
       "              Age         Sex  ChestPainType   RestingBP  Cholesterol  \\\n",
       "count  918.000000  918.000000     918.000000  918.000000   918.000000   \n",
       "mean    53.510893    0.789760       0.781046  132.396514   198.799564   \n",
       "std      9.432617    0.407701       0.956519   18.514154   109.384145   \n",
       "min     28.000000    0.000000       0.000000    0.000000     0.000000   \n",
       "25%     47.000000    1.000000       0.000000  120.000000   173.250000   \n",
       "50%     54.000000    1.000000       0.000000  130.000000   223.000000   \n",
       "75%     60.000000    1.000000       2.000000  140.000000   267.000000   \n",
       "max     77.000000    1.000000       3.000000  200.000000   603.000000   \n",
       "\n",
       "        FastingBS  RestingECG       MaxHR  ExerciseAngina     Oldpeak  \\\n",
       "count  918.000000  918.000000  918.000000      918.000000  918.000000   \n",
       "mean     0.233115    0.989107  136.809368        0.404139    0.887364   \n",
       "std      0.423046    0.631671   25.460334        0.490992    1.066570   \n",
       "min      0.000000    0.000000   60.000000        0.000000   -2.600000   \n",
       "25%      0.000000    1.000000  120.000000        0.000000    0.000000   \n",
       "50%      0.000000    1.000000  138.000000        0.000000    0.600000   \n",
       "75%      0.000000    1.000000  156.000000        1.000000    1.500000   \n",
       "max      1.000000    2.000000  202.000000        1.000000    6.200000   \n",
       "\n",
       "         ST_Slope  HeartDisease  \n",
       "count  918.000000    918.000000  \n",
       "mean     1.361656      0.553377  \n",
       "std      0.607056      0.497414  \n",
       "min      0.000000      0.000000  \n",
       "25%      1.000000      0.000000  \n",
       "50%      1.000000      1.000000  \n",
       "75%      2.000000      1.000000  \n",
       "max      2.000000      1.000000  "
      ]
     },
     "execution_count": 7,
     "metadata": {},
     "output_type": "execute_result"
    }
   ],
   "source": [
    "# Data description\n",
    "data.describe()"
   ]
  },
  {
   "cell_type": "code",
   "execution_count": 8,
   "id": "800aaec5",
   "metadata": {},
   "outputs": [
    {
     "name": "stdout",
     "output_type": "stream",
     "text": [
      "Empty DataFrame\n",
      "Columns: [Age, Sex, ChestPainType, RestingBP, Cholesterol, FastingBS, RestingECG, MaxHR, ExerciseAngina, Oldpeak, ST_Slope, HeartDisease]\n",
      "Index: []\n"
     ]
    }
   ],
   "source": [
    "# Checking if the data consists any duplicate values\n",
    "duplicates = data.duplicated()\n",
    "print(data[duplicates])"
   ]
  },
  {
   "cell_type": "markdown",
   "id": "ac2a8fd5",
   "metadata": {},
   "source": [
    "# Data Visualization"
   ]
  },
  {
   "cell_type": "code",
   "execution_count": 159,
   "id": "1a634e62",
   "metadata": {},
   "outputs": [
    {
     "data": {
      "image/png": "[encoded data removed]",
      "text/plain": [
       "<Figure size 432x288 with 1 Axes>"
      ]
     },
     "metadata": {
      "needs_background": "light"
     },
     "output_type": "display_data"
    }
   ],
   "source": [
    "# Plotting a stacked bar plot that shows count of people in a particular age range having a heart disease or not\n",
    "ageTens = [20, 30, 40, 50, 60, 70, 80]\n",
    "ageRange = ['20-29', '30-39', '40-49', '50-59', '60-69', '70-79']\n",
    "data['AgeRange'] = pd.cut(data['Age'], bins=ageTens, labels=ageRange)\n",
    "\n",
    "# Grouping the data by age range\n",
    "age = data.groupby(['AgeRange', 'HeartDisease']).size().unstack()\n",
    "\n",
    "# Creating the stacked bar plot\n",
    "age.plot(kind='bar', stacked=True)\n",
    "plt.title('Age Range vs. Heart Disease')\n",
    "plt.xlabel('Age Range')\n",
    "plt.ylabel('Count of Individuals')\n",
    "plt.show()\n"
   ]
  },
  {
   "cell_type": "code",
   "execution_count": 160,
   "id": "8065c4fd",
   "metadata": {},
   "outputs": [
    {
     "data": {
      "image/png": "[encoded data removed]",
      "text/plain": [
       "<Figure size 432x288 with 1 Axes>"
      ]
     },
     "metadata": {
      "needs_background": "light"
     },
     "output_type": "display_data"
    }
   ],
   "source": [
    "# Plotting a stacked bar plot that shows count of people of a particular gender having a heart disease or not\n",
    "data['Sex'] = data['Sex'].replace({1: 'Male', 0: 'Female'})\n",
    "\n",
    "# Grouping the data by gender\n",
    "gender = data.groupby(['Sex', 'HeartDisease']).size().unstack()\n",
    "\n",
    "# Creating a stacked bar plot\n",
    "gender.plot(kind='bar', stacked=True)\n",
    "plt.title('Sex vs. Heart Disease')\n",
    "plt.xlabel('Sex')\n",
    "plt.ylabel('Count of Individuals')\n",
    "plt.show()\n"
   ]
  },
  {
   "cell_type": "code",
   "execution_count": 161,
   "id": "fcb6aa09",
   "metadata": {},
   "outputs": [
    {
     "data": {
      "image/png": "[encoded data removed]",
      "text/plain": [
       "<Figure size 432x288 with 1 Axes>"
      ]
     },
     "metadata": {
      "needs_background": "light"
     },
     "output_type": "display_data"
    }
   ],
   "source": [
    "# Plotting a stacked bar plot that shows count of people with a particular chest pain having a heart disease or not\n",
    "data['ChestPainType'] = data['ChestPainType'].replace({0: 'ASY',1: 'ATA', 2: 'NAP',3: 'TA'})\n",
    "\n",
    "# Grouping the data by chest pain type\n",
    "cpType = data.groupby(['ChestPainType', 'HeartDisease']).size().unstack()\n",
    "\n",
    "# Creating a stacked bar plot\n",
    "cpType.plot(kind='bar', stacked=True)\n",
    "plt.title('ChestPainType vs. Heart Disease')\n",
    "plt.xlabel('ChestPainType')\n",
    "plt.ylabel('Count of Individuals')\n",
    "plt.show()\n"
   ]
  },
  {
   "cell_type": "code",
   "execution_count": 162,
   "id": "c17c6c67",
   "metadata": {},
   "outputs": [
    {
     "data": {
      "image/png": "[encoded data removed]",
      "text/plain": [
       "<Figure size 432x288 with 1 Axes>"
      ]
     },
     "metadata": {
      "needs_background": "light"
     },
     "output_type": "display_data"
    }
   ],
   "source": [
    "# Plotting a stacked bar plot that shows count of people within a particular cholestrol having a heart disease or not\n",
    "cholesterolPoints = [0, 200, 240, float('inf')]\n",
    "cholesterolRange = ['<200', '200-240', '>=240']\n",
    "data['CholesterolRange'] = pd.cut(data['Cholesterol'], bins=cholesterolPoints, labels=cholesterolRange)\n",
    "grouped = data.groupby('CholesterolRange')\n",
    "\n",
    "# Grouping the data by Cholestrol range\n",
    "c = grouped['HeartDisease'].value_counts().unstack()\n",
    "\n",
    "# Creating a stacked bar plot\n",
    "c.plot(kind='bar', stacked=True)\n",
    "plt.title('Heart Disease Counts by Cholesterol Range')\n",
    "plt.xlabel('Cholesterol Range')\n",
    "plt.ylabel('Count of Individuals')\n",
    "plt.show()\n"
   ]
  },
  {
   "cell_type": "code",
   "execution_count": 163,
   "id": "9a581545",
   "metadata": {},
   "outputs": [
    {
     "data": {
      "image/png": "[encoded data removed]",
      "text/plain": [
       "<Figure size 432x288 with 1 Axes>"
      ]
     },
     "metadata": {
      "needs_background": "light"
     },
     "output_type": "display_data"
    }
   ],
   "source": [
    "# Plotting a grouped bar chart that shows count of people within a particular RestingBP range having a heart disease or not\n",
    "bp_bins = [80, 120, 140, 160, 180, 200, float('inf')]\n",
    "bp_labels = ['<120', '120-140', '140-160', '160-180', '180-200', '>=200']\n",
    "data['BPRange'] = pd.cut(data['RestingBP'], bins=bp_bins, labels=bp_labels)\n",
    "\n",
    "# Grouping the data by RestingBP Range\n",
    "grouped = data.groupby(['BPRange', 'HeartDisease']).size().unstack()\n",
    "\n",
    "# Creating a grouped bar plot\n",
    "grouped.plot(kind='bar')\n",
    "plt.title('Heart Disease Counts by Resting BP Range')\n",
    "plt.xlabel('Resting BP Range')\n",
    "plt.ylabel('Count of Individuals')\n",
    "plt.show()\n"
   ]
  },
  {
   "cell_type": "code",
   "execution_count": 164,
   "id": "c446b759",
   "metadata": {},
   "outputs": [
    {
     "data": {
      "image/png": "[encoded data removed]",
      "text/plain": [
       "<Figure size 432x288 with 1 Axes>"
      ]
     },
     "metadata": {
      "needs_background": "light"
     },
     "output_type": "display_data"
    }
   ],
   "source": [
    "# Plotting a stacked bar plot that shows count of people with a higher FastingBS or a lower FastingBS having a heart disease or not\n",
    "counts = data.groupby(['FastingBS', 'HeartDisease']).size().unstack()\n",
    "\n",
    "# Creating stacked bar chart\n",
    "figure, ax = plt.subplots()\n",
    "ax.bar([0, 1], counts.iloc[0], label='No heart disease', width=0.2)\n",
    "ax.bar([0, 1], counts.iloc[1], label='Heart disease', bottom=counts.iloc[0], width=0.2)\n",
    "ax.set_xticks([0, 1])\n",
    "ax.set_xticklabels(['Lower FastingBS', 'Higher FastingBS'])\n",
    "ax.set_ylabel('Count of Individuals')\n",
    "ax.legend()\n",
    "plt.show()\n"
   ]
  },
  {
   "cell_type": "code",
   "execution_count": 165,
   "id": "299b6c5f",
   "metadata": {},
   "outputs": [
    {
     "data": {
      "image/png": "[encoded data removed]",
      "text/plain": [
       "<Figure size 432x288 with 1 Axes>"
      ]
     },
     "metadata": {
      "needs_background": "light"
     },
     "output_type": "display_data"
    }
   ],
   "source": [
    "# Plotting a stacked bar plot that shows count of people with a different RestingECG having a heart disease or not\n",
    "data['RestingECG'] = data['RestingECG'].replace({0: 'LVH', 1: 'Normal', 2: 'ST'})\n",
    "\n",
    "# Grouping the data by RestingECG\n",
    "restecg = data.groupby(['RestingECG', 'HeartDisease']).size().unstack()\n",
    "\n",
    "# Create a stacked bar plot\n",
    "restecg.plot(kind='bar', stacked=True)\n",
    "plt.title('RestingECG vs. Heart Disease')\n",
    "plt.xlabel('RestingECG')\n",
    "plt.ylabel('Count of Individuals')\n",
    "plt.show()"
   ]
  },
  {
   "cell_type": "code",
   "execution_count": 166,
   "id": "878aae17",
   "metadata": {},
   "outputs": [
    {
     "data": {
      "image/png": "[encoded data removed]",
      "text/plain": [
       "<Figure size 432x288 with 1 Axes>"
      ]
     },
     "metadata": {
      "needs_background": "light"
     },
     "output_type": "display_data"
    }
   ],
   "source": [
    "# Plotting a stacked bar plot that shows count of people within a particular MaxHR range having a heart disease or not\n",
    "maxhr_bins = [0, 120, 140, 160, 180, float('inf')]\n",
    "maxhr_labels = ['<120', '120-140', '140-160', '160-180', '>=180']\n",
    "data['MaxHRRange'] = pd.cut(data['MaxHR'], bins=maxhr_bins, labels=maxhr_labels)\n",
    "grouped = data.groupby('MaxHRRange')\n",
    "\n",
    "# Grouping the data by MaxHR\n",
    "maxhr = grouped['HeartDisease'].value_counts().unstack()\n",
    "\n",
    "# Creating a stacked bar chart\n",
    "maxhr.plot(kind='bar', stacked=True)\n",
    "plt.title('Heart Disease Counts by MaxHR Range')\n",
    "plt.xlabel('MaxHR Range')\n",
    "plt.ylabel('Count of Individuals')\n",
    "plt.show()\n"
   ]
  },
  {
   "cell_type": "code",
   "execution_count": 167,
   "id": "16803c58",
   "metadata": {},
   "outputs": [
    {
     "data": {
      "image/png": "[encoded data removed]",
      "text/plain": [
       "<Figure size 432x288 with 1 Axes>"
      ]
     },
     "metadata": {
      "needs_background": "light"
     },
     "output_type": "display_data"
    }
   ],
   "source": [
    "# Map ExcerciseAngina values to corresponding labels\n",
    "labels = {0: 'No', 1: 'Yes'}\n",
    "data['ExerciseAngina'] = data['ExerciseAngina'].map(labels)\n",
    "\n",
    "# Group data by ExcerciseAngina and HeartDisease and count the number of patients in each group\n",
    "counts = data.groupby(['ExerciseAngina', 'HeartDisease']).size().unstack()\n",
    "\n",
    "# Create stacked bar chart\n",
    "figure, ax = plt.subplots()\n",
    "ax.bar([0, 1], counts.iloc[0], label='No heart disease', width=0.2)\n",
    "ax.bar([0, 1], counts.iloc[1], bottom=counts.iloc[0], label='Heart disease', width=0.2)\n",
    "ax.set_xticks([0, 1])\n",
    "ax.set_xticklabels(['No', 'Yes'])\n",
    "ax.set_ylabel('Count of Individulas')\n",
    "ax.legend()\n",
    "plt.show()\n"
   ]
  },
  {
   "cell_type": "code",
   "execution_count": 168,
   "id": "df76b32b",
   "metadata": {},
   "outputs": [
    {
     "data": {
      "image/png": "[encoded data removed]",
      "text/plain": [
       "<Figure size 432x288 with 1 Axes>"
      ]
     },
     "metadata": {
      "needs_background": "light"
     },
     "output_type": "display_data"
    }
   ],
   "source": [
    "# Plotting a grouped bar chart that shows count of people within the oldpeak range having a heart disease or not\n",
    "oldpeak_bins = [0, 1, 2, 3, 4, float('inf')]\n",
    "oldpeak_labels = ['<1', '1-2', '2-3', '3-4', '>=4']\n",
    "data['OldpeakRange'] = pd.cut(data['Oldpeak'], bins=oldpeak_bins, labels=oldpeak_labels)\n",
    "\n",
    "# Grouping the data by Oldpeak range\n",
    "op = data.groupby(['OldpeakRange', 'HeartDisease']).size().unstack()\n",
    "\n",
    "# Creating a grouped bar chart\n",
    "op.plot(kind='bar')\n",
    "plt.title('Heart Disease Counts by Oldpeak Range')\n",
    "plt.xlabel('Oldpeak Range')\n",
    "plt.ylabel('Count of Individuals')\n",
    "plt.show()\n"
   ]
  },
  {
   "cell_type": "code",
   "execution_count": 169,
   "id": "2a4ec1d4",
   "metadata": {},
   "outputs": [
    {
     "data": {
      "image/png": "[encoded data removed]",
      "text/plain": [
       "<Figure size 432x288 with 1 Axes>"
      ]
     },
     "metadata": {
      "needs_background": "light"
     },
     "output_type": "display_data"
    }
   ],
   "source": [
    "# Plotting a stacked bar chart that shows count of people with a particular ST Slope having a heart disease or not\n",
    "data['ST_Slope'] = data['ST_Slope'].replace({0: 'Down', 1: 'Flat', 2: 'Up'})\n",
    "grouped = data.groupby(['ST_Slope', 'HeartDisease'])\n",
    "\n",
    "# Grouing the data by ST Slope\n",
    "st = grouped.size().unstack()\n",
    "\n",
    "# Creating a stacked bar chart\n",
    "st.plot(kind='bar', stacked=True)\n",
    "plt.title('Heart Disease Counts by ST_Slope')\n",
    "plt.xlabel('ST_Slope')\n",
    "plt.ylabel('Count of Individuals')\n",
    "plt.show()\n"
   ]
  },
  {
   "cell_type": "markdown",
   "id": "d98b461c",
   "metadata": {},
   "source": [
    "## Cleaning the Train and Test Data"
   ]
  },
  {
   "cell_type": "code",
   "execution_count": 11,
   "id": "4d52a460",
   "metadata": {},
   "outputs": [],
   "source": [
    "# Loading the train data into pandas dataframe\n",
    "traindata = pd.read_csv('/Users/mahvashmaghrabi/Downloads/heart_train_718.csv')"
   ]
  },
  {
   "cell_type": "code",
   "execution_count": 12,
   "id": "eebcc500",
   "metadata": {},
   "outputs": [],
   "source": [
    "# Loading the test data into pandas dataframe\n",
    "testdata = pd.read_csv('/Users/mahvashmaghrabi/Downloads/heart_test_200.csv')"
   ]
  },
  {
   "cell_type": "code",
   "execution_count": 13,
   "id": "c7a1e267",
   "metadata": {},
   "outputs": [],
   "source": [
    "# Converting the categorical values of the train dataset into numerical values using Label Encoding\n",
    "encoder = LabelEncoder()\n",
    "traindata['Sex'] = encoder.fit_transform(traindata['Sex'])\n",
    "traindata['ChestPainType'] = encoder.fit_transform(traindata['ChestPainType'])\n",
    "traindata['RestingECG'] = encoder.fit_transform(traindata['RestingECG'])\n",
    "traindata['ExerciseAngina'] = encoder.fit_transform(traindata['ExerciseAngina'])\n",
    "traindata['ST_Slope'] = encoder.fit_transform(traindata['ST_Slope'])"
   ]
  },
  {
   "cell_type": "code",
   "execution_count": 14,
   "id": "f2600fdd",
   "metadata": {},
   "outputs": [],
   "source": [
    "# Converting the categorical values of the test dataset into numerical values using Label Encoding\n",
    "encoder = LabelEncoder()\n",
    "testdata['Sex'] = encoder.fit_transform(testdata['Sex'])\n",
    "testdata['ChestPainType'] = encoder.fit_transform(testdata['ChestPainType'])\n",
    "testdata['RestingECG'] = encoder.fit_transform(testdata['RestingECG'])\n",
    "testdata['ExerciseAngina'] = encoder.fit_transform(testdata['ExerciseAngina'])\n",
    "testdata['ST_Slope'] = encoder.fit_transform(testdata['ST_Slope'])"
   ]
  },
  {
   "cell_type": "code",
   "execution_count": 15,
   "id": "c79f3bc4",
   "metadata": {},
   "outputs": [
    {
     "data": {
      "text/html": [
       "<div>\n",
       "<style scoped>\n",
       "    .dataframe tbody tr th:only-of-type {\n",
       "        vertical-align: middle;\n",
       "    }\n",
       "\n",
       "    .dataframe tbody tr th {\n",
       "        vertical-align: top;\n",
       "    }\n",
       "\n",
       "    .dataframe thead th {\n",
       "        text-align: right;\n",
       "    }\n",
       "</style>\n",
       "<table border=\"1\" class=\"dataframe\">\n",
       "  <thead>\n",
       "    <tr style=\"text-align: right;\">\n",
       "      <th></th>\n",
       "      <th>Age</th>\n",
       "      <th>Sex</th>\n",
       "      <th>ChestPainType</th>\n",
       "      <th>RestingBP</th>\n",
       "      <th>Cholesterol</th>\n",
       "      <th>FastingBS</th>\n",
       "      <th>RestingECG</th>\n",
       "      <th>MaxHR</th>\n",
       "      <th>ExerciseAngina</th>\n",
       "      <th>Oldpeak</th>\n",
       "      <th>ST_Slope</th>\n",
       "      <th>HeartDisease</th>\n",
       "    </tr>\n",
       "  </thead>\n",
       "  <tbody>\n",
       "    <tr>\n",
       "      <th>0</th>\n",
       "      <td>66</td>\n",
       "      <td>0</td>\n",
       "      <td>2</td>\n",
       "      <td>146</td>\n",
       "      <td>278</td>\n",
       "      <td>0</td>\n",
       "      <td>0</td>\n",
       "      <td>152</td>\n",
       "      <td>0</td>\n",
       "      <td>0.0</td>\n",
       "      <td>1</td>\n",
       "      <td>0</td>\n",
       "    </tr>\n",
       "    <tr>\n",
       "      <th>1</th>\n",
       "      <td>65</td>\n",
       "      <td>1</td>\n",
       "      <td>0</td>\n",
       "      <td>150</td>\n",
       "      <td>235</td>\n",
       "      <td>0</td>\n",
       "      <td>1</td>\n",
       "      <td>120</td>\n",
       "      <td>1</td>\n",
       "      <td>1.5</td>\n",
       "      <td>1</td>\n",
       "      <td>1</td>\n",
       "    </tr>\n",
       "    <tr>\n",
       "      <th>2</th>\n",
       "      <td>63</td>\n",
       "      <td>1</td>\n",
       "      <td>0</td>\n",
       "      <td>150</td>\n",
       "      <td>223</td>\n",
       "      <td>0</td>\n",
       "      <td>1</td>\n",
       "      <td>115</td>\n",
       "      <td>0</td>\n",
       "      <td>0.0</td>\n",
       "      <td>1</td>\n",
       "      <td>1</td>\n",
       "    </tr>\n",
       "    <tr>\n",
       "      <th>3</th>\n",
       "      <td>58</td>\n",
       "      <td>1</td>\n",
       "      <td>1</td>\n",
       "      <td>136</td>\n",
       "      <td>164</td>\n",
       "      <td>0</td>\n",
       "      <td>2</td>\n",
       "      <td>99</td>\n",
       "      <td>1</td>\n",
       "      <td>2.0</td>\n",
       "      <td>1</td>\n",
       "      <td>1</td>\n",
       "    </tr>\n",
       "    <tr>\n",
       "      <th>4</th>\n",
       "      <td>54</td>\n",
       "      <td>1</td>\n",
       "      <td>1</td>\n",
       "      <td>192</td>\n",
       "      <td>283</td>\n",
       "      <td>0</td>\n",
       "      <td>0</td>\n",
       "      <td>195</td>\n",
       "      <td>0</td>\n",
       "      <td>0.0</td>\n",
       "      <td>2</td>\n",
       "      <td>1</td>\n",
       "    </tr>\n",
       "  </tbody>\n",
       "</table>\n",
       "</div>"
      ],
      "text/plain": [
       "   Age  Sex  ChestPainType  RestingBP  Cholesterol  FastingBS  RestingECG  \\\n",
       "0   66    0              2        146          278          0           0   \n",
       "1   65    1              0        150          235          0           1   \n",
       "2   63    1              0        150          223          0           1   \n",
       "3   58    1              1        136          164          0           2   \n",
       "4   54    1              1        192          283          0           0   \n",
       "\n",
       "   MaxHR  ExerciseAngina  Oldpeak  ST_Slope  HeartDisease  \n",
       "0    152               0      0.0         1             0  \n",
       "1    120               1      1.5         1             1  \n",
       "2    115               0      0.0         1             1  \n",
       "3     99               1      2.0         1             1  \n",
       "4    195               0      0.0         2             1  "
      ]
     },
     "execution_count": 15,
     "metadata": {},
     "output_type": "execute_result"
    }
   ],
   "source": [
    "traindata.head()"
   ]
  },
  {
   "cell_type": "code",
   "execution_count": 16,
   "id": "caa1fa00",
   "metadata": {},
   "outputs": [
    {
     "data": {
      "text/html": [
       "<div>\n",
       "<style scoped>\n",
       "    .dataframe tbody tr th:only-of-type {\n",
       "        vertical-align: middle;\n",
       "    }\n",
       "\n",
       "    .dataframe tbody tr th {\n",
       "        vertical-align: top;\n",
       "    }\n",
       "\n",
       "    .dataframe thead th {\n",
       "        text-align: right;\n",
       "    }\n",
       "</style>\n",
       "<table border=\"1\" class=\"dataframe\">\n",
       "  <thead>\n",
       "    <tr style=\"text-align: right;\">\n",
       "      <th></th>\n",
       "      <th>Age</th>\n",
       "      <th>Sex</th>\n",
       "      <th>ChestPainType</th>\n",
       "      <th>RestingBP</th>\n",
       "      <th>Cholesterol</th>\n",
       "      <th>FastingBS</th>\n",
       "      <th>RestingECG</th>\n",
       "      <th>MaxHR</th>\n",
       "      <th>ExerciseAngina</th>\n",
       "      <th>Oldpeak</th>\n",
       "      <th>ST_Slope</th>\n",
       "      <th>HeartDisease</th>\n",
       "    </tr>\n",
       "  </thead>\n",
       "  <tbody>\n",
       "    <tr>\n",
       "      <th>0</th>\n",
       "      <td>61</td>\n",
       "      <td>1</td>\n",
       "      <td>0</td>\n",
       "      <td>130</td>\n",
       "      <td>0</td>\n",
       "      <td>1</td>\n",
       "      <td>1</td>\n",
       "      <td>77</td>\n",
       "      <td>0</td>\n",
       "      <td>2.5</td>\n",
       "      <td>1</td>\n",
       "      <td>1</td>\n",
       "    </tr>\n",
       "    <tr>\n",
       "      <th>1</th>\n",
       "      <td>40</td>\n",
       "      <td>1</td>\n",
       "      <td>0</td>\n",
       "      <td>152</td>\n",
       "      <td>223</td>\n",
       "      <td>0</td>\n",
       "      <td>1</td>\n",
       "      <td>181</td>\n",
       "      <td>0</td>\n",
       "      <td>0.0</td>\n",
       "      <td>2</td>\n",
       "      <td>1</td>\n",
       "    </tr>\n",
       "    <tr>\n",
       "      <th>2</th>\n",
       "      <td>45</td>\n",
       "      <td>1</td>\n",
       "      <td>0</td>\n",
       "      <td>130</td>\n",
       "      <td>219</td>\n",
       "      <td>0</td>\n",
       "      <td>2</td>\n",
       "      <td>130</td>\n",
       "      <td>1</td>\n",
       "      <td>1.0</td>\n",
       "      <td>1</td>\n",
       "      <td>1</td>\n",
       "    </tr>\n",
       "    <tr>\n",
       "      <th>3</th>\n",
       "      <td>62</td>\n",
       "      <td>1</td>\n",
       "      <td>0</td>\n",
       "      <td>158</td>\n",
       "      <td>170</td>\n",
       "      <td>0</td>\n",
       "      <td>2</td>\n",
       "      <td>138</td>\n",
       "      <td>1</td>\n",
       "      <td>0.0</td>\n",
       "      <td>1</td>\n",
       "      <td>1</td>\n",
       "    </tr>\n",
       "    <tr>\n",
       "      <th>4</th>\n",
       "      <td>60</td>\n",
       "      <td>1</td>\n",
       "      <td>0</td>\n",
       "      <td>130</td>\n",
       "      <td>206</td>\n",
       "      <td>0</td>\n",
       "      <td>0</td>\n",
       "      <td>132</td>\n",
       "      <td>1</td>\n",
       "      <td>2.4</td>\n",
       "      <td>1</td>\n",
       "      <td>1</td>\n",
       "    </tr>\n",
       "  </tbody>\n",
       "</table>\n",
       "</div>"
      ],
      "text/plain": [
       "   Age  Sex  ChestPainType  RestingBP  Cholesterol  FastingBS  RestingECG  \\\n",
       "0   61    1              0        130            0          1           1   \n",
       "1   40    1              0        152          223          0           1   \n",
       "2   45    1              0        130          219          0           2   \n",
       "3   62    1              0        158          170          0           2   \n",
       "4   60    1              0        130          206          0           0   \n",
       "\n",
       "   MaxHR  ExerciseAngina  Oldpeak  ST_Slope  HeartDisease  \n",
       "0     77               0      2.5         1             1  \n",
       "1    181               0      0.0         2             1  \n",
       "2    130               1      1.0         1             1  \n",
       "3    138               1      0.0         1             1  \n",
       "4    132               1      2.4         1             1  "
      ]
     },
     "execution_count": 16,
     "metadata": {},
     "output_type": "execute_result"
    }
   ],
   "source": [
    "testdata.head()"
   ]
  },
  {
   "cell_type": "code",
   "execution_count": 17,
   "id": "8adb506f",
   "metadata": {},
   "outputs": [
    {
     "name": "stdout",
     "output_type": "stream",
     "text": [
      "Age               0\n",
      "Sex               0\n",
      "ChestPainType     0\n",
      "RestingBP         0\n",
      "Cholesterol       0\n",
      "FastingBS         0\n",
      "RestingECG        0\n",
      "MaxHR             0\n",
      "ExerciseAngina    0\n",
      "Oldpeak           0\n",
      "ST_Slope          0\n",
      "HeartDisease      0\n",
      "dtype: int64\n"
     ]
    }
   ],
   "source": [
    "# Checking and printing the null values and it's count\n",
    "nullValues = traindata.isnull()\n",
    "print(nullValues.sum())\n"
   ]
  },
  {
   "cell_type": "code",
   "execution_count": 18,
   "id": "847555cb",
   "metadata": {},
   "outputs": [
    {
     "name": "stdout",
     "output_type": "stream",
     "text": [
      "Age               0\n",
      "Sex               0\n",
      "ChestPainType     0\n",
      "RestingBP         0\n",
      "Cholesterol       0\n",
      "FastingBS         0\n",
      "RestingECG        0\n",
      "MaxHR             0\n",
      "ExerciseAngina    0\n",
      "Oldpeak           0\n",
      "ST_Slope          0\n",
      "HeartDisease      0\n",
      "dtype: int64\n"
     ]
    }
   ],
   "source": [
    "# Checking and printing the null values and it's count\n",
    "nullValues = testdata.isnull()\n",
    "print(nullValues.sum())"
   ]
  },
  {
   "cell_type": "code",
   "execution_count": 178,
   "id": "261f428c",
   "metadata": {},
   "outputs": [
    {
     "name": "stdout",
     "output_type": "stream",
     "text": [
      "Empty DataFrame\n",
      "Columns: [Age, Sex, ChestPainType, RestingBP, Cholesterol, FastingBS, RestingECG, MaxHR, ExerciseAngina, Oldpeak, ST_Slope, HeartDisease]\n",
      "Index: []\n"
     ]
    }
   ],
   "source": [
    "# Checking if the data consists any duplicate values\n",
    "duplicates = traindata.duplicated()\n",
    "print(traindata[duplicates])\n"
   ]
  },
  {
   "cell_type": "code",
   "execution_count": 179,
   "id": "827974ca",
   "metadata": {},
   "outputs": [
    {
     "name": "stdout",
     "output_type": "stream",
     "text": [
      "Empty DataFrame\n",
      "Columns: [Age, Sex, ChestPainType, RestingBP, Cholesterol, FastingBS, RestingECG, MaxHR, ExerciseAngina, Oldpeak, ST_Slope, HeartDisease]\n",
      "Index: []\n"
     ]
    }
   ],
   "source": [
    "# Checking if the data consists any duplicate values\n",
    "duplicates = testdata.duplicated()\n",
    "print(testdata[duplicates])"
   ]
  },
  {
   "cell_type": "markdown",
   "id": "de898aa9",
   "metadata": {},
   "source": [
    "## Linear Regression"
   ]
  },
  {
   "cell_type": "code",
   "execution_count": 180,
   "id": "30ba3081",
   "metadata": {},
   "outputs": [
    {
     "name": "stdout",
     "output_type": "stream",
     "text": [
      "Age - Intercept: -0.234, Coefficient: 0.015\n",
      "Sex - Intercept: 0.238, Coefficient: 0.404\n",
      "ChestPainType - Intercept: 0.708, Coefficient: -0.188\n",
      "RestingBP - Intercept: 0.293, Coefficient: 0.002\n",
      "Cholesterol - Intercept: 0.779, Coefficient: -0.001\n",
      "FastingBS - Intercept: 0.484, Coefficient: 0.316\n",
      "RestingECG - Intercept: 0.509, Coefficient: 0.053\n",
      "MaxHR - Intercept: 1.592, Coefficient: -0.008\n",
      "ExerciseAngina - Intercept: 0.364, Coefficient: 0.491\n",
      "Oldpeak - Intercept: 0.401, Coefficient: 0.181\n",
      "ST_Slope - Intercept: 1.187, Coefficient: -0.464\n",
      "R-squared: 0.509471803156791\n"
     ]
    }
   ],
   "source": [
    "# Linear Regression model\n",
    "dependentVariable = 'HeartDisease'\n",
    "independentVariables = ['Age', 'Sex', 'ChestPainType', 'RestingBP','Cholesterol', 'FastingBS',         \n",
    "'RestingECG','MaxHR','ExerciseAngina','Oldpeak','ST_Slope']\n",
    "\n",
    "# Looping over independent variables\n",
    "for var in independent_variables:\n",
    "# Fitting model\n",
    "    model = LinearRegression()\n",
    "    X = traindata[[var]]\n",
    "    y = traindata[dependent_variable]\n",
    "    model.fit(X, y)\n",
    "    print(f'{var} - Intercept: {model.intercept_:.3f}, Coefficient: {model.coef_[0]:.3f}')\n",
    "\n",
    "X = traindata[independentVariables]\n",
    "y = traindata[dependentVariable]\n",
    "model.fit(X, y)\n",
    "print('R-squared:', model.score(X, y))\n"
   ]
  },
  {
   "cell_type": "markdown",
   "id": "0146c849",
   "metadata": {},
   "source": [
    "## Lasso Regression"
   ]
  },
  {
   "cell_type": "code",
   "execution_count": 181,
   "id": "18cf5730",
   "metadata": {},
   "outputs": [
    {
     "name": "stdout",
     "output_type": "stream",
     "text": [
      "Significant variables: ['Age', 'ChestPainType', 'RestingBP', 'Cholesterol', 'MaxHR', 'Oldpeak', 'ST_Slope']\n",
      "No. of significant signals: 7\n",
      "R-squared: 0.2903737471079858\n"
     ]
    }
   ],
   "source": [
    "# Lasso Regression\n",
    "dependentVariable = 'HeartDisease'\n",
    "independentVariables = ['Age', 'Sex', 'ChestPainType', 'RestingBP', 'Cholesterol', 'FastingBS',\n",
    "                         'RestingECG', 'MaxHR', 'ExerciseAngina', 'Oldpeak', 'ST_Slope']\n",
    "\n",
    "X = traindata[independentVariables]\n",
    "y = traindata[dependentVariable]\n",
    "\n",
    "#Fitting the model\n",
    "lasso = Lasso(alpha=0.1)\n",
    "lasso.fit(X, y)\n",
    "\n",
    "# Getting the significant signals\n",
    "signVars = [var for var, coefficient in zip(independent_variables, lasso.coef_) if coef != 0]\n",
    "print('Significant variables:', signVars)\n",
    "print('No. of significant signals:', len(signVars))\n",
    "print('R-squared:', lasso.score(X, y))\n"
   ]
  },
  {
   "cell_type": "markdown",
   "id": "4c188014",
   "metadata": {},
   "source": [
    "## Correlation Matrix"
   ]
  },
  {
   "cell_type": "code",
   "execution_count": 9,
   "id": "872e6173",
   "metadata": {},
   "outputs": [
    {
     "data": {
      "image/png": "[encoded data removed]",
      "text/plain": [
       "<Figure size 648x504 with 2 Axes>"
      ]
     },
     "metadata": {
      "needs_background": "light"
     },
     "output_type": "display_data"
    }
   ],
   "source": [
    "# Correlation matrix to check which variables are strongly or weakly correlated\n",
    "corr_matrix = data.corr()\n",
    "\n",
    "# Plotting the heatmap\n",
    "plt.figure(figsize=(9, 7))\n",
    "sns.heatmap(corr_matrix, annot=True, cmap='PuOr')\n",
    "plt.title('Correlation Matrix')\n",
    "plt.show()\n"
   ]
  },
  {
   "cell_type": "markdown",
   "id": "6ca5b43d",
   "metadata": {},
   "source": [
    "## Principal Componenet Analysis"
   ]
  },
  {
   "cell_type": "code",
   "execution_count": 134,
   "id": "104f8283",
   "metadata": {},
   "outputs": [
    {
     "name": "stdout",
     "output_type": "stream",
     "text": [
      "Explained variance ratio: [0.25139665 0.1330889 ]\n",
      "                     PC1       PC2\n",
      "Age             0.550796 -0.097884\n",
      "Sex             0.357974  0.324108\n",
      "ChestPainType  -0.482329 -0.022524\n",
      "RestingBP       0.276850 -0.327280\n",
      "Cholesterol    -0.272560 -0.724928\n",
      "FastingBS       0.328908  0.408744\n",
      "RestingECG      0.177159  0.485206\n",
      "MaxHR          -0.673393 -0.207029\n",
      "ExerciseAngina  0.704270 -0.207496\n",
      "Oldpeak         0.602190 -0.444820\n",
      "ST_Slope       -0.708256  0.177564\n"
     ]
    }
   ],
   "source": [
    "# Selecting the independent variables\n",
    "X = data[['Age', 'Sex', 'ChestPainType', 'RestingBP', 'Cholesterol', 'FastingBS', 'RestingECG', 'MaxHR', 'ExerciseAngina', 'Oldpeak', 'ST_Slope']]\n",
    "\n",
    "# Standardize\n",
    "scaler = StandardScaler()\n",
    "X_scaled = scaler.fit_transform(X)\n",
    "\n",
    "# Applying PCA with 2 components\n",
    "pca = PCA(n_components=2)\n",
    "X_pca = pca.fit_transform(X_scaled)\n",
    "\n",
    "# Display PCs and dependent variable\n",
    "df_pca = pd.DataFrame(X_pca, columns=['PC1', 'PC2'])\n",
    "df_pca['HeartDisease'] = data['HeartDisease']\n",
    "print(\"Explained variance ratio:\", pca.explained_variance_ratio_)\n",
    "\n",
    "# Loadings\n",
    "load = pca.components_.T * np.sqrt(pca.explained_variance_)\n",
    "\n",
    "# Display the loadings\n",
    "loadings = pd.DataFrame(load, columns=['PC1', 'PC2'], index=X.columns)\n",
    "print(loadings)\n",
    "\n"
   ]
  },
  {
   "cell_type": "markdown",
   "id": "d1002024",
   "metadata": {},
   "source": [
    "## K-means Clustering"
   ]
  },
  {
   "cell_type": "code",
   "execution_count": 84,
   "id": "611f081a",
   "metadata": {},
   "outputs": [
    {
     "data": {
      "image/png": "[encoded data removed]",
      "text/plain": [
       "<Figure size 432x288 with 1 Axes>"
      ]
     },
     "metadata": {
      "needs_background": "light"
     },
     "output_type": "display_data"
    }
   ],
   "source": [
    "# Getting the sillhouette scores for different values of k \n",
    "silhouetteScores = []\n",
    "for k in range(2, 11):\n",
    "    kmeans = KMeans(n_clusters=k)\n",
    "    labels = kmeans.fit_predict(data)\n",
    "    silhouetteScores.append(silhouette_score(data, labels))\n",
    "\n",
    "# Plotting the silhouette score for each value of K\n",
    "plt.plot(range(2, 11), silhouetteScores, marker='o')\n",
    "plt.xlabel(\"No. of Clusters\")\n",
    "plt.ylabel(\"Silhouette score\")\n",
    "plt.show()"
   ]
  },
  {
   "cell_type": "code",
   "execution_count": 85,
   "id": "2d62091d",
   "metadata": {},
   "outputs": [
    {
     "data": {
      "image/png": "[encoded data removed]",
      "text/plain": [
       "<Figure size 432x288 with 1 Axes>"
      ]
     },
     "metadata": {
      "needs_background": "light"
     },
     "output_type": "display_data"
    }
   ],
   "source": [
    "# Performing K-means clustering with k=2\n",
    "# Standardize\n",
    "scaler = StandardScaler()\n",
    "dataset = scaler.fit_transform(data)\n",
    "\n",
    "# Perform k-means clustering with value of K=2\n",
    "kmeans = KMeans(n_clusters=2)\n",
    "kmeans.fit(dataset)\n",
    "labels = kmeans.labels_\n",
    "\n",
    "# Using sklearn's built in PCA to reduce the dimensions to 2\n",
    "pca = PCA(n_components=2)\n",
    "X_pca = pca.fit_transform(dataset)\n",
    "\n",
    "# Plotting the clusters\n",
    "plt.scatter(X_pca[:, 0], X_pca[:, 1], c=labels)\n",
    "plt.show()"
   ]
  },
  {
   "cell_type": "markdown",
   "id": "45481272",
   "metadata": {},
   "source": [
    "## Task 4 - Iteration"
   ]
  },
  {
   "cell_type": "markdown",
   "id": "a240ab66",
   "metadata": {},
   "source": [
    "## Decision Tree Classifier"
   ]
  },
  {
   "cell_type": "code",
   "execution_count": 20,
   "id": "62ba75c8",
   "metadata": {},
   "outputs": [
    {
     "name": "stdout",
     "output_type": "stream",
     "text": [
      "Accuracy: 81.50%\n",
      "Classification report:\n",
      "               precision    recall  f1-score   support\n",
      "\n",
      "           0       0.81      0.80      0.80        95\n",
      "           1       0.82      0.83      0.82       105\n",
      "\n",
      "    accuracy                           0.81       200\n",
      "   macro avg       0.81      0.81      0.81       200\n",
      "weighted avg       0.81      0.81      0.81       200\n",
      "\n"
     ]
    }
   ],
   "source": [
    "# Decision Tree Classifier\n",
    "# Traindata\n",
    "X_train = traindata.drop('HeartDisease', axis=1)\n",
    "y_train = traindata['HeartDisease']\n",
    "\n",
    "# Testdata\n",
    "X_test = testdata.drop('HeartDisease', axis=1)\n",
    "y_test = testdata['HeartDisease']\n",
    "\n",
    "# Fitting the model\n",
    "dtree = DecisionTreeClassifier()\n",
    "dtree.fit(X_train, y_train)\n",
    "\n",
    "# Predicting\n",
    "y_pred = dtree.predict(X_test)\n",
    "\n",
    "# Printing the results\n",
    "accuracy = accuracy_score(y_test, y_pred)\n",
    "print('Accuracy: {:.2f}%'.format(accuracy * 100))\n",
    "report = classification_report(y_test, y_pred)\n",
    "print('Classification report:\\n', report)"
   ]
  },
  {
   "cell_type": "markdown",
   "id": "ea4954ed",
   "metadata": {},
   "source": [
    "## Iteration 1"
   ]
  },
  {
   "cell_type": "code",
   "execution_count": 21,
   "id": "5e31f039",
   "metadata": {},
   "outputs": [
    {
     "name": "stdout",
     "output_type": "stream",
     "text": [
      "Accuracy: 82.50%\n",
      "Classification report:\n",
      "               precision    recall  f1-score   support\n",
      "\n",
      "           0       0.79      0.85      0.82        95\n",
      "           1       0.86      0.80      0.83       105\n",
      "\n",
      "    accuracy                           0.82       200\n",
      "   macro avg       0.83      0.83      0.82       200\n",
      "weighted avg       0.83      0.82      0.83       200\n",
      "\n",
      "Confusion matrix:\n",
      " [[81 14]\n",
      " [21 84]]\n"
     ]
    }
   ],
   "source": [
    "# Train data\n",
    "X_train = traindata.drop('HeartDisease', axis=1)\n",
    "y_train = traindata['HeartDisease']\n",
    "\n",
    "# Test data\n",
    "X_test = testdata.drop('HeartDisease', axis=1)\n",
    "y_test = testdata['HeartDisease']\n",
    "\n",
    "# Modification to hyperparameters\n",
    "dtree = DecisionTreeClassifier(max_depth=5, criterion='entropy', min_samples_split=10)\n",
    "\n",
    "# Fitting the model\n",
    "dtree.fit(X_train, y_train)\n",
    "\n",
    "#Predicting\n",
    "y_pred = dtree.predict(X_test)\n",
    "\n",
    "# Printing results\n",
    "accuracy = accuracy_score(y_test, y_pred)\n",
    "print('Accuracy: {:.2f}%'.format(accuracy * 100))\n",
    "\n",
    "report = classification_report(y_test, y_pred)\n",
    "print('Classification report:\\n', report)\n",
    "\n",
    "confusionmatrix = confusion_matrix(y_test, y_pred)\n",
    "print('Confusion matrix:\\n', confusionmatrix)\n"
   ]
  },
  {
   "cell_type": "markdown",
   "id": "36f2fafa",
   "metadata": {},
   "source": [
    "## Iteration 2"
   ]
  },
  {
   "cell_type": "code",
   "execution_count": 22,
   "id": "b807a6d0",
   "metadata": {},
   "outputs": [
    {
     "name": "stdout",
     "output_type": "stream",
     "text": [
      "Accuracy: 84.00%\n",
      "Classification report:\n",
      "               precision    recall  f1-score   support\n",
      "\n",
      "           0       0.84      0.82      0.83        95\n",
      "           1       0.84      0.86      0.85       105\n",
      "\n",
      "    accuracy                           0.84       200\n",
      "   macro avg       0.84      0.84      0.84       200\n",
      "weighted avg       0.84      0.84      0.84       200\n",
      "\n",
      "Confusion matrix:\n",
      " [[78 17]\n",
      " [15 90]]\n"
     ]
    }
   ],
   "source": [
    "# Train data\n",
    "X_train = traindata.drop('HeartDisease', axis=1)\n",
    "y_train = traindata['HeartDisease']\n",
    "\n",
    "# Test data\n",
    "X_test = testdata.drop('HeartDisease', axis=1)\n",
    "y_test = testdata['HeartDisease']\n",
    "\n",
    "# Modification to hyperparameters\n",
    "dtree = DecisionTreeClassifier(max_depth=7, criterion='gini', min_samples_split=5)\n",
    "\n",
    "# Fitting the model\n",
    "dtree.fit(X_train, y_train)\n",
    "\n",
    "# Predicting\n",
    "y_pred = dtree.predict(X_test)\n",
    "\n",
    "# Printing the results\n",
    "accuracy = accuracy_score(y_test, y_pred)\n",
    "print('Accuracy: {:.2f}%'.format(accuracy * 100))\n",
    "\n",
    "report = classification_report(y_test, y_pred)\n",
    "print('Classification report:\\n', report)\n",
    "\n",
    "confusionmatrix = confusion_matrix(y_test, y_pred)\n",
    "print('Confusion matrix:\\n', confusionmatrix)\n"
   ]
  },
  {
   "cell_type": "markdown",
   "id": "d7b41aec",
   "metadata": {},
   "source": [
    "## Iteration 3"
   ]
  },
  {
   "cell_type": "code",
   "execution_count": 23,
   "id": "ad7c662e",
   "metadata": {},
   "outputs": [
    {
     "name": "stdout",
     "output_type": "stream",
     "text": [
      "Accuracy: 80.50%\n",
      "Classification report:\n",
      "               precision    recall  f1-score   support\n",
      "\n",
      "           0       0.77      0.83      0.80        95\n",
      "           1       0.84      0.78      0.81       105\n",
      "\n",
      "    accuracy                           0.81       200\n",
      "   macro avg       0.81      0.81      0.80       200\n",
      "weighted avg       0.81      0.81      0.81       200\n",
      "\n",
      "Confusion matrix:\n",
      " [[79 16]\n",
      " [23 82]]\n"
     ]
    }
   ],
   "source": [
    "# Train data\n",
    "X_train = traindata.drop('HeartDisease', axis=1)\n",
    "y_train = traindata['HeartDisease']\n",
    "\n",
    "# Test data\n",
    "X_test = testdata.drop('HeartDisease', axis=1)\n",
    "y_test = testdata['HeartDisease']\n",
    "\n",
    "# Modification to hyperparameters\n",
    "dtree = DecisionTreeClassifier(max_depth=5, criterion='entropy', min_samples_split=10, min_samples_leaf=5)\n",
    "\n",
    "# Fitting the model\n",
    "dtree.fit(X_train, y_train)\n",
    "\n",
    "# Predicting\n",
    "y_pred = dtree.predict(X_test)\n",
    "\n",
    "# Printing results\n",
    "accuracy = accuracy_score(y_test, y_pred)\n",
    "print('Accuracy: {:.2f}%'.format(accuracy * 100))\n",
    "\n",
    "report = classification_report(y_test, y_pred)\n",
    "print('Classification report:\\n', report)\n",
    "\n",
    "confusionmatrix = confusion_matrix(y_test, y_pred)\n",
    "print('Confusion matrix:\\n', confusionmatrix)\n"
   ]
  },
  {
   "cell_type": "markdown",
   "id": "76ffd129",
   "metadata": {},
   "source": [
    "## Iteration 4"
   ]
  },
  {
   "cell_type": "code",
   "execution_count": 24,
   "id": "2bce462a",
   "metadata": {},
   "outputs": [
    {
     "name": "stdout",
     "output_type": "stream",
     "text": [
      "Accuracy: 83.00%\n",
      "Classification report:\n",
      "               precision    recall  f1-score   support\n",
      "\n",
      "           0       0.84      0.80      0.82        95\n",
      "           1       0.83      0.86      0.84       105\n",
      "\n",
      "    accuracy                           0.83       200\n",
      "   macro avg       0.83      0.83      0.83       200\n",
      "weighted avg       0.83      0.83      0.83       200\n",
      "\n",
      "Confusion matrix:\n",
      " [[76 19]\n",
      " [15 90]]\n"
     ]
    }
   ],
   "source": [
    "# Train data\n",
    "X_train = traindata.drop('HeartDisease', axis=1)\n",
    "y_train = traindata['HeartDisease']\n",
    "\n",
    "# Test data\n",
    "X_test = testdata.drop('HeartDisease', axis=1)\n",
    "y_test = testdata['HeartDisease']\n",
    "\n",
    "# Modification to hyperparameters\n",
    "dtree = DecisionTreeClassifier(max_depth=10, criterion='gini')\n",
    "\n",
    "# Fitting the model\n",
    "dtree.fit(X_train, y_train)\n",
    "\n",
    "# Predicting\n",
    "y_pred = dtree.predict(X_test)\n",
    "\n",
    "# Printing results\n",
    "accuracy = accuracy_score(y_test, y_pred)\n",
    "print('Accuracy: {:.2f}%'.format(accuracy * 100))\n",
    "\n",
    "report = classification_report(y_test, y_pred)\n",
    "print('Classification report:\\n', report)\n",
    "\n",
    "confusionmatrix = confusion_matrix(y_test, y_pred)\n",
    "print('Confusion matrix:\\n', confusionmatrix)\n"
   ]
  },
  {
   "cell_type": "markdown",
   "id": "c1edab03",
   "metadata": {},
   "source": [
    "## Grid Search CV"
   ]
  },
  {
   "cell_type": "code",
   "execution_count": 25,
   "id": "7fcfc417",
   "metadata": {},
   "outputs": [
    {
     "name": "stdout",
     "output_type": "stream",
     "text": [
      "Best hyperparameters: {'max_depth': 5, 'min_samples_leaf': 1, 'min_samples_split': 2}\n",
      "Classification report:\n",
      "               precision    recall  f1-score   support\n",
      "\n",
      "           0       0.84      0.85      0.84        95\n",
      "           1       0.86      0.85      0.86       105\n",
      "\n",
      "    accuracy                           0.85       200\n",
      "   macro avg       0.85      0.85      0.85       200\n",
      "weighted avg       0.85      0.85      0.85       200\n",
      "\n",
      "Confusion matrix:\n",
      " [[81 14]\n",
      " [16 89]]\n"
     ]
    }
   ],
   "source": [
    "# Splitting into training and test sets\n",
    "X_train = traindata.drop('HeartDisease', axis=1)\n",
    "y_train = traindata['HeartDisease']\n",
    "X_test = testdata.drop('HeartDisease', axis=1)\n",
    "y_test = testdata['HeartDisease']\n",
    "\n",
    "# Hyperparameter dictionary\n",
    "param_grid = {\n",
    "    'max_depth': [5, 10, 15],\n",
    "    'min_samples_split': [2, 5, 10],\n",
    "    'min_samples_leaf': [1, 2, 4]\n",
    "}\n",
    "\n",
    "# Decision tree classifier\n",
    "dt = DecisionTreeClassifier(random_state=42)\n",
    "\n",
    "# GridSearchCV object\n",
    "grid_search = GridSearchCV(estimator=dt, param_grid=param_grid, cv=5, scoring='f1')\n",
    "\n",
    "# Fitting the GridSearchCV\n",
    "grid_search.fit(X_train, y_train)\n",
    "\n",
    "# Printing the best hyperparameters\n",
    "print('Best hyperparameters:', grid_search.best_params_)\n",
    "\n",
    "# Using the best hyperparameters\n",
    "dtree = DecisionTreeClassifier(random_state=42, **grid_search.best_params_)\n",
    "\n",
    "# Fitting the model\n",
    "dtree.fit(X_train, y_train)\n",
    "\n",
    "# Predictions\n",
    "y_pred = dtree.predict(X_test)\n",
    "\n",
    "# Printing the results\n",
    "report = classification_report(y_test, y_pred)\n",
    "print('Classification report:\\n', report)\n",
    "\n",
    "conf_matrix = confusion_matrix(y_test, y_pred)\n",
    "print('Confusion matrix:\\n', conf_matrix)\n",
    "\n"
   ]
  },
  {
   "cell_type": "markdown",
   "id": "1119c5ec",
   "metadata": {},
   "source": [
    "## ML Classification Methods - Extensions"
   ]
  },
  {
   "cell_type": "markdown",
   "id": "c0e09390",
   "metadata": {},
   "source": [
    "## Random Forest Classifier"
   ]
  },
  {
   "cell_type": "code",
   "execution_count": 88,
   "id": "328498cc",
   "metadata": {},
   "outputs": [
    {
     "name": "stdout",
     "output_type": "stream",
     "text": [
      "Accuracy: 85.00%\n",
      "Classification report:\n",
      "               precision    recall  f1-score   support\n",
      "\n",
      "           0       0.85      0.83      0.84        95\n",
      "           1       0.85      0.87      0.86       105\n",
      "\n",
      "    accuracy                           0.85       200\n",
      "   macro avg       0.85      0.85      0.85       200\n",
      "weighted avg       0.85      0.85      0.85       200\n",
      "\n"
     ]
    }
   ],
   "source": [
    "# Splitting training data \n",
    "X_train = traindata.drop('HeartDisease', axis=1)\n",
    "y_train = traindata['HeartDisease']\n",
    "\n",
    "# Split the testing data\n",
    "X_test = testdata.drop('HeartDisease', axis=1)\n",
    "y_test = testdata['HeartDisease']\n",
    "\n",
    "# Random Forest classifier \n",
    "rf = RandomForestClassifier(n_estimators=100, random_state=42)\n",
    "\n",
    "# Fitting the model\n",
    "rf.fit(X_train, y_train)\n",
    "\n",
    "# Predictions\n",
    "y_pred = rf.predict(X_test)\n",
    "\n",
    "# Printing the results\n",
    "accuracy = accuracy_score(y_test, y_pred)\n",
    "print('Accuracy: {:.2f}%'.format(accuracy * 100))\n",
    "\n",
    "report = classification_report(y_test, y_pred)\n",
    "print('Classification report:\\n', report)\n"
   ]
  },
  {
   "cell_type": "markdown",
   "id": "0def1aee",
   "metadata": {},
   "source": [
    "## Naive Bayes classification"
   ]
  },
  {
   "cell_type": "code",
   "execution_count": 26,
   "id": "d9af034a",
   "metadata": {},
   "outputs": [
    {
     "name": "stdout",
     "output_type": "stream",
     "text": [
      "Accuracy: 85.50%\n",
      "Classification report:\n",
      "               precision    recall  f1-score   support\n",
      "\n",
      "           0       0.84      0.86      0.85        95\n",
      "           1       0.87      0.85      0.86       105\n",
      "\n",
      "    accuracy                           0.85       200\n",
      "   macro avg       0.85      0.86      0.85       200\n",
      "weighted avg       0.86      0.85      0.86       200\n",
      "\n"
     ]
    }
   ],
   "source": [
    "# Splitting the training data\n",
    "X_train = traindata.drop('HeartDisease', axis=1)\n",
    "y_train = traindata['HeartDisease']\n",
    "\n",
    "# Splitting the test data\n",
    "X_test = testdata.drop('HeartDisease', axis=1)\n",
    "y_test = testdata['HeartDisease']\n",
    "\n",
    "# Gaussian Naive Bayes classifier\n",
    "nbayes = GaussianNB()\n",
    "\n",
    "# Fitting the model\n",
    "nbayes.fit(X_train, y_train)\n",
    "\n",
    "# Predictions\n",
    "y_pred = nbayes.predict(X_test)\n",
    "\n",
    "# Printing the results\n",
    "accuracy = accuracy_score(y_test, y_pred)\n",
    "print('Accuracy: {:.2f}%'.format(accuracy * 100))\n",
    "\n",
    "report = classification_report(y_test, y_pred)\n",
    "print('Classification report:\\n', report)\n"
   ]
  }
 ],
 "metadata": {
  "kernelspec": {
   "display_name": "Python 3 (ipykernel)",
   "language": "python",
   "name": "python3"
  },
  "language_info": {
   "codemirror_mode": {
    "name": "ipython",
    "version": 3
   },
   "file_extension": ".py",
   "mimetype": "text/x-python",
   "name": "python",
   "nbconvert_exporter": "python",
   "pygments_lexer": "ipython3",
   "version": "3.7.2"
  }
 },
 "nbformat": 4,
 "nbformat_minor": 5
}
